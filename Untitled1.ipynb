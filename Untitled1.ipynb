{
  "nbformat": 4,
  "nbformat_minor": 0,
  "metadata": {
    "colab": {
      "provenance": [],
      "include_colab_link": true
    },
    "kernelspec": {
      "name": "python3",
      "display_name": "Python 3"
    },
    "language_info": {
      "name": "python"
    }
  },
  "cells": [
    {
      "cell_type": "markdown",
      "metadata": {
        "id": "view-in-github",
        "colab_type": "text"
      },
      "source": [
        "<a href=\"https://colab.research.google.com/github/udaria2005/-/blob/master/Untitled1.ipynb\" target=\"_parent\"><img src=\"https://colab.research.google.com/assets/colab-badge.svg\" alt=\"Open In Colab\"/></a>"
      ]
    },
    {
      "cell_type": "code",
      "execution_count": null,
      "metadata": {
        "id": "pge-vVlgkS6k"
      },
      "outputs": [],
      "source": [
        "#1\n",
        "n=int(input())\n",
        "a=[]\n",
        "for i in range (n**2):\n",
        "  b=int(input())\n",
        "  a.append(b)\n",
        "import numpy as np\n",
        "a=np.array(a)\n",
        "a=a.reshape(n, n)\n",
        "c=np.linalg.det(a)\n",
        "print(c)"
      ]
    },
    {
      "cell_type": "code",
      "source": [
        "#2\n",
        "n=int(input())\n",
        "a=[]\n",
        "for i in range (n**2):\n",
        "  b=int(input())\n",
        "  a.append(b)\n",
        "import numpy as np\n",
        "a=np.array(a)\n",
        "a=a.reshape(n, n)\n",
        "c=0\n",
        "for i in range (n):\n",
        "  c+=a[i][i]\n",
        "print(c)"
      ],
      "metadata": {
        "id": "W517Td14jtA4"
      },
      "execution_count": null,
      "outputs": []
    },
    {
      "cell_type": "code",
      "source": [],
      "metadata": {
        "id": "hR8a8irSz8Fd"
      },
      "execution_count": null,
      "outputs": []
    },
    {
      "cell_type": "code",
      "source": [
        "#4\n",
        "n=int(input())\n",
        "a=[]\n",
        "for i in range(n**2):\n",
        "  s=int(input())\n",
        "  a.append(s)\n",
        "b=[]\n",
        "for i in range (n**2):\n",
        "  d=int(input())\n",
        "  b.append(d)\n",
        "import numpy as np\n",
        "a = np.array(a).reshape(n, n)\n",
        "b= np.array(b).reshape(n, n)\n",
        "c = np.linalg.inv(b)\n",
        "r = (c.dot(a)).dot(b)\n",
        "print(r)"
      ],
      "metadata": {
        "id": "gvKgzJF2wxrJ"
      },
      "execution_count": null,
      "outputs": []
    },
    {
      "cell_type": "code",
      "source": [
        "#5\n",
        "n=int(input())\n",
        "a=[]\n",
        "for i in range (n**2):\n",
        "  b=int(input())\n",
        "  a.append(b)\n",
        "import numpy as np\n",
        "a=np.array(a)\n",
        "a=a.reshape(n, n)\n",
        "c=[]\n",
        "for i in range (n**2):\n",
        "  b=int(input())\n",
        "  c.append(b)\n",
        "c=np.array(c)\n",
        "c=c.reshape(n, n)\n",
        "v= np.linalg.inv(a)\n",
        "p= v.dot(c)\n",
        "print(p)"
      ],
      "metadata": {
        "id": "yIhgfHtcn2Nn"
      },
      "execution_count": null,
      "outputs": []
    },
    {
      "cell_type": "code",
      "source": [
        "#6\n",
        "n=int(input())\n",
        "a=[]\n",
        "for i in range (n**2):\n",
        "  b=int(input())\n",
        "  a.append(b)\n",
        "import numpy as np\n",
        "a=np.array(a)\n",
        "a=a.reshape(n, n)\n",
        "c, d= np.linalg.eig(a)\n",
        "t=c.sum()\n",
        "print(t)"
      ],
      "metadata": {
        "id": "T7s3OmivG_fD"
      },
      "execution_count": null,
      "outputs": []
    },
    {
      "cell_type": "code",
      "source": [
        "#7\n",
        "n=int(input())\n",
        "a=[]\n",
        "for i in range (n**2):\n",
        "  b=int(input())\n",
        "  a.append(b)\n",
        "import numpy as np\n",
        "a=np.array(a)\n",
        "a=a.reshape(n, n)\n",
        "c, d= np.linalg.eig(a)\n",
        "c = np.abs(c)\n",
        "p= c.max()\n",
        "print(p)"
      ],
      "metadata": {
        "id": "sYKEB-7PCYhY"
      },
      "execution_count": null,
      "outputs": []
    },
    {
      "cell_type": "code",
      "source": [
        "#8\n",
        "n=int(input())\n",
        "a=[]\n",
        "for i in range (n**2):\n",
        "  b=int(input())\n",
        "  a.append(b)\n",
        "import numpy as np\n",
        "a=np.array(a)\n",
        "a=a.reshape(n, n)\n",
        "c, d=np.linalg.eig(a)\n",
        "print(c)\n",
        "print(d)\n",
        "c = np.abs(c)\n",
        "m=np.argmax(c)\n",
        "c[m]=0\n",
        "k=np.argmax(c)\n",
        "l= d[:, k]\n",
        "print(l)"
      ],
      "metadata": {
        "id": "4OGclxNMH3wU"
      },
      "execution_count": null,
      "outputs": []
    }
  ]
}